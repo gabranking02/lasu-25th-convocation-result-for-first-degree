{
 "cells": [
  {
   "cell_type": "code",
   "execution_count": 1,
   "id": "34c83105",
   "metadata": {},
   "outputs": [],
   "source": [
    "import pandas as pd\n",
    "import numpy as np "
   ]
  },
  {
   "cell_type": "code",
   "execution_count": 2,
   "id": "fa8a5a3b",
   "metadata": {},
   "outputs": [],
   "source": [
    "Faculty = [\"ARTS\",\"MEDICINE\",\"EDUCATION\",\"ENGINEERING\",\"LAW\",\"FMS\",\"AGRICULTURE\",\"COMMUNICATION\",\"TRANSPORT\",\"SCIENCE\",\"FSS\"]"
   ]
  },
  {
   "cell_type": "code",
   "execution_count": 3,
   "id": "d0845862",
   "metadata": {},
   "outputs": [],
   "source": [
    "Honour = [\"1st Class Honours\",\"2nd class Honours(upper)\",\"2nd Class Honours(lower)\",\"3rd Class Honours\",\"Pass\"]"
   ]
  },
  {
   "cell_type": "code",
   "execution_count": 4,
   "id": "cadfea2b",
   "metadata": {},
   "outputs": [],
   "source": [
    "data = [[1,82,203,94,2],[7,29,5,0,73],[26,410,939,107,0],[5,51,94,9,1],[1,50,70,9,2],[22,194,514,113,1],[1,12,4,0,0],[3,81,149,29,1],[0,17,29,1,0],[40,308,521,138,7],[6,129,301,103,0]]"
   ]
  },
  {
   "cell_type": "code",
   "execution_count": 7,
   "id": "3f4a4b1e",
   "metadata": {},
   "outputs": [
    {
     "data": {
      "text/html": [
       "<div>\n",
       "<style scoped>\n",
       "    .dataframe tbody tr th:only-of-type {\n",
       "        vertical-align: middle;\n",
       "    }\n",
       "\n",
       "    .dataframe tbody tr th {\n",
       "        vertical-align: top;\n",
       "    }\n",
       "\n",
       "    .dataframe thead th {\n",
       "        text-align: right;\n",
       "    }\n",
       "</style>\n",
       "<table border=\"1\" class=\"dataframe\">\n",
       "  <thead>\n",
       "    <tr style=\"text-align: right;\">\n",
       "      <th></th>\n",
       "      <th>1st Class Honours</th>\n",
       "      <th>2nd class Honours(upper)</th>\n",
       "      <th>2nd Class Honours(lower)</th>\n",
       "      <th>3rd Class Honours</th>\n",
       "      <th>Pass</th>\n",
       "    </tr>\n",
       "  </thead>\n",
       "  <tbody>\n",
       "    <tr>\n",
       "      <th>ARTS</th>\n",
       "      <td>1</td>\n",
       "      <td>82</td>\n",
       "      <td>203</td>\n",
       "      <td>94</td>\n",
       "      <td>2</td>\n",
       "    </tr>\n",
       "    <tr>\n",
       "      <th>MEDICINE</th>\n",
       "      <td>7</td>\n",
       "      <td>29</td>\n",
       "      <td>5</td>\n",
       "      <td>0</td>\n",
       "      <td>73</td>\n",
       "    </tr>\n",
       "    <tr>\n",
       "      <th>EDUCATION</th>\n",
       "      <td>26</td>\n",
       "      <td>410</td>\n",
       "      <td>939</td>\n",
       "      <td>107</td>\n",
       "      <td>0</td>\n",
       "    </tr>\n",
       "    <tr>\n",
       "      <th>ENGINEERING</th>\n",
       "      <td>5</td>\n",
       "      <td>51</td>\n",
       "      <td>94</td>\n",
       "      <td>9</td>\n",
       "      <td>1</td>\n",
       "    </tr>\n",
       "    <tr>\n",
       "      <th>LAW</th>\n",
       "      <td>1</td>\n",
       "      <td>50</td>\n",
       "      <td>70</td>\n",
       "      <td>9</td>\n",
       "      <td>2</td>\n",
       "    </tr>\n",
       "    <tr>\n",
       "      <th>FMS</th>\n",
       "      <td>22</td>\n",
       "      <td>194</td>\n",
       "      <td>514</td>\n",
       "      <td>113</td>\n",
       "      <td>1</td>\n",
       "    </tr>\n",
       "    <tr>\n",
       "      <th>AGRICULTURE</th>\n",
       "      <td>1</td>\n",
       "      <td>12</td>\n",
       "      <td>4</td>\n",
       "      <td>0</td>\n",
       "      <td>0</td>\n",
       "    </tr>\n",
       "    <tr>\n",
       "      <th>COMMUNICATION</th>\n",
       "      <td>3</td>\n",
       "      <td>81</td>\n",
       "      <td>149</td>\n",
       "      <td>29</td>\n",
       "      <td>1</td>\n",
       "    </tr>\n",
       "    <tr>\n",
       "      <th>TRANSPORT</th>\n",
       "      <td>0</td>\n",
       "      <td>17</td>\n",
       "      <td>29</td>\n",
       "      <td>1</td>\n",
       "      <td>0</td>\n",
       "    </tr>\n",
       "    <tr>\n",
       "      <th>SCIENCE</th>\n",
       "      <td>40</td>\n",
       "      <td>308</td>\n",
       "      <td>521</td>\n",
       "      <td>138</td>\n",
       "      <td>7</td>\n",
       "    </tr>\n",
       "    <tr>\n",
       "      <th>FSS</th>\n",
       "      <td>6</td>\n",
       "      <td>129</td>\n",
       "      <td>301</td>\n",
       "      <td>103</td>\n",
       "      <td>0</td>\n",
       "    </tr>\n",
       "  </tbody>\n",
       "</table>\n",
       "</div>"
      ],
      "text/plain": [
       "               1st Class Honours  2nd class Honours(upper)  \\\n",
       "ARTS                           1                        82   \n",
       "MEDICINE                       7                        29   \n",
       "EDUCATION                     26                       410   \n",
       "ENGINEERING                    5                        51   \n",
       "LAW                            1                        50   \n",
       "FMS                           22                       194   \n",
       "AGRICULTURE                    1                        12   \n",
       "COMMUNICATION                  3                        81   \n",
       "TRANSPORT                      0                        17   \n",
       "SCIENCE                       40                       308   \n",
       "FSS                            6                       129   \n",
       "\n",
       "               2nd Class Honours(lower)  3rd Class Honours  Pass  \n",
       "ARTS                                203                 94     2  \n",
       "MEDICINE                              5                  0    73  \n",
       "EDUCATION                           939                107     0  \n",
       "ENGINEERING                          94                  9     1  \n",
       "LAW                                  70                  9     2  \n",
       "FMS                                 514                113     1  \n",
       "AGRICULTURE                           4                  0     0  \n",
       "COMMUNICATION                       149                 29     1  \n",
       "TRANSPORT                            29                  1     0  \n",
       "SCIENCE                             521                138     7  \n",
       "FSS                                 301                103     0  "
      ]
     },
     "execution_count": 7,
     "metadata": {},
     "output_type": "execute_result"
    }
   ],
   "source": [
    "Table = pd.DataFrame(data,Faculty,Honour)\n",
    "Table"
   ]
  },
  {
   "cell_type": "code",
   "execution_count": 8,
   "id": "b50bc548",
   "metadata": {},
   "outputs": [],
   "source": [
    "Table.to_csv('convocation.csv')"
   ]
  },
  {
   "cell_type": "code",
   "execution_count": null,
   "id": "99a7fdb7",
   "metadata": {},
   "outputs": [],
   "source": []
  },
  {
   "cell_type": "code",
   "execution_count": null,
   "id": "aa47e7d9",
   "metadata": {},
   "outputs": [],
   "source": []
  },
  {
   "cell_type": "code",
   "execution_count": null,
   "id": "c9498c9b",
   "metadata": {},
   "outputs": [],
   "source": []
  },
  {
   "cell_type": "code",
   "execution_count": null,
   "id": "1184c2cb",
   "metadata": {},
   "outputs": [],
   "source": []
  }
 ],
 "metadata": {
  "kernelspec": {
   "display_name": "Python 3 (ipykernel)",
   "language": "python",
   "name": "python3"
  },
  "language_info": {
   "codemirror_mode": {
    "name": "ipython",
    "version": 3
   },
   "file_extension": ".py",
   "mimetype": "text/x-python",
   "name": "python",
   "nbconvert_exporter": "python",
   "pygments_lexer": "ipython3",
   "version": "3.8.8"
  }
 },
 "nbformat": 4,
 "nbformat_minor": 5
}
